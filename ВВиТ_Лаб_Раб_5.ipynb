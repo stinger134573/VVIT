{
  "nbformat": 4,
  "nbformat_minor": 0,
  "metadata": {
    "colab": {
      "provenance": []
    },
    "kernelspec": {
      "name": "python3",
      "display_name": "Python 3"
    },
    "language_info": {
      "name": "python"
    }
  },
  "cells": [
    {
      "cell_type": "code",
      "source": [
        "#Задание 1: Базовый класс и методы\n",
        "class Book:\n",
        "    def __init__(self, title, author, year):\n",
        "        self.title = title\n",
        "        self.author = author\n",
        "        self.year = year\n",
        "\n",
        "    def get_info(self):\n",
        "        return \"Название книги: {}, Автор: {}, Год издания: {}\".format(self.title, self.author, self.year)\n",
        "\n",
        "book1 = Book(\"Мертвые Души\", \"Достоевский\", 1842)\n",
        "\n",
        "print (book1.get_info())"
      ],
      "metadata": {
        "id": "Yz0346RSntw_"
      },
      "execution_count": null,
      "outputs": []
    },
    {
      "cell_type": "code",
      "source": [
        "#Задание 2: Работа с конструктором\n",
        "class Circle:\n",
        "\n",
        "    def __init__(self, radius):\n",
        "        self.radius = radius\n",
        "\n",
        "    def get_radius(self):\n",
        "        return self.radius\n",
        "\n",
        "    def set_radius(self, set_radius):\n",
        "        self.radius = set_radius\n",
        "\n",
        "circle1 = Circle(14)\n",
        "print(\"Радиус круга: {}\".format(circle1.get_radius()))\n",
        "\n",
        "circle1.set_radius(int(input(\"Введите новое значение радиуса круга:\")))\n",
        "print(\"Радиус круга: {}\".format(circle1.get_radius()))"
      ],
      "metadata": {
        "id": "of5NmZcYn2Ou"
      },
      "execution_count": null,
      "outputs": []
    }
  ]
}