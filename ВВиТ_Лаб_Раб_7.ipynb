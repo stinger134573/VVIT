{
  "nbformat": 4,
  "nbformat_minor": 0,
  "metadata": {
    "colab": {
      "provenance": []
    },
    "kernelspec": {
      "name": "python3",
      "display_name": "Python 3"
    },
    "language_info": {
      "name": "python"
    }
  },
  "cells": [
    {
      "cell_type": "markdown",
      "source": [
        "Лаораторная работа №7"
      ],
      "metadata": {
        "id": "ws1de0uAnGw7"
      }
    },
    {
      "cell_type": "code",
      "source": [
        "class Employee:\n",
        "  def __init__(self,name,id):\n",
        "    self.name = name\n",
        "    self.id = id\n",
        "  def get_info(self):\n",
        "   return \"Имя: {}, ID : {}\" .format(self.name,self.id)\n",
        "\n",
        "\n",
        "class Manager(Employee):\n",
        "  def __init__(self,name,id,depart):\n",
        "    Employee.__init__(self,name,id)\n",
        "    self.depart=depart\n",
        "  def manage_project (self):\n",
        "     return  \"Проект : {}\" .format(self.depart)\n",
        "  def get_info(self):\n",
        "    return \"Имя: {}, ID : {}, Проект : {}\" .format(self.name,self.id ,self.depart)\n",
        "\n",
        "\n",
        "class Technician(Employee) :\n",
        "  def __init__(self,name,id,special):\n",
        "    Employee.__init__(self,name,id)\n",
        "    self.special=special\n",
        "  def perform_maintenance(self) :\n",
        "    return \" Специализация : {}\" .format(self.special)\n",
        "  def get_info(self):\n",
        "    return \"Имя: {}, ID : {},Специализация : {}\" .format(self.name,self.id ,self.special)\n",
        "\n",
        "\n",
        "class TechManager(Manager,Technician):\n",
        "  def __init__(self,name,id,depart,special):\n",
        "    Manager.__init__(self,name,id,depart)\n",
        "    Technician.__init__(self,name,id,special)\n",
        "    self.team=[]\n",
        "  def get_info(self):\n",
        "    return \"ИМЯ: {}, ID : {}, Проект : {} , Специализация : {}\" .format(self.name,self.id ,self.depart , self.special)\n",
        "  def add_employee(self,x):\n",
        "    self.team.append(x.get_info())\n",
        "  def get_teaminfo(self):\n",
        "     print(\"Команда состоит из:\")\n",
        "     return self.team\n",
        "\n",
        "\n",
        "em_1 = Employee('Пётр', '0000')\n",
        "em_2 = Manager('Олег', '0001' ,\"development\")\n",
        "em_3 = Technician('Татьяна', '0002' ,\"data engineer\")\n",
        "em_4 = TechManager('Игорь', '0003' ,\"IT\",'senior engineer')\n",
        "\n",
        "print(em_1.get_info())\n",
        "print(em_2.get_info())\n",
        "print(em_3.get_info())\n",
        "print(em_4.get_info())\n",
        "\n",
        "em_4.add_employee(em_1)\n",
        "em_4.add_employee(em_2)\n",
        "em_4.add_employee(em_3)\n",
        "\n",
        "print('\\n'.join(em_4.get_teaminfo()))"
      ],
      "metadata": {
        "id": "Yz0346RSntw_",
        "colab": {
          "base_uri": "https://localhost:8080/"
        },
        "outputId": "1c9041c4-9bf9-4c2d-b9d8-97c1c6969eb9"
      },
      "execution_count": 2,
      "outputs": [
        {
          "output_type": "stream",
          "name": "stdout",
          "text": [
            "Имя: Пётр, ID : 0000\n",
            "Имя: Олег, ID : 0001, Проект : development\n",
            "Имя: Татьяна, ID : 0002,Специализация : data engineer\n",
            "ИМЯ: Игорь, ID : 0003, Проект : IT , Специализация : senior engineer\n",
            "Команда состоит из:\n",
            "Имя: Пётр, ID : 0000\n",
            "Имя: Олег, ID : 0001, Проект : development\n",
            "Имя: Татьяна, ID : 0002,Специализация : data engineer\n"
          ]
        }
      ]
    }
  ]
}