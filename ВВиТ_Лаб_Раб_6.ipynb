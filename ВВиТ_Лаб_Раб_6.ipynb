{
  "nbformat": 4,
  "nbformat_minor": 0,
  "metadata": {
    "colab": {
      "provenance": []
    },
    "kernelspec": {
      "name": "python3",
      "display_name": "Python 3"
    },
    "language_info": {
      "name": "python"
    }
  },
  "cells": [
    {
      "cell_type": "code",
      "source": [
        "#Задание 1: Приватный тип данных\n",
        "class UserAccount:\n",
        "    def __init__(self, username, mail, password):\n",
        "        self.username = username\n",
        "        self.mail = mail\n",
        "        self.__password = password\n",
        "\n",
        "    def get_info(self):\n",
        "        return \"Имя пользователя: {}, Почта пользователя: {}\".format(self.username, self.mail)\n",
        "\n",
        "    def get_password(self):\n",
        "        return self.__password\n",
        "\n",
        "    def set_password(self):\n",
        "        current_password = input('Введите текущий пароль: ')\n",
        "        if current_password == self.get_password():\n",
        "            new_password = input('Введите новый пароль: ')\n",
        "            self.__password = new_password\n",
        "            return 'Новый пароль установлен.'\n",
        "        else:\n",
        "            return 'Пароль неверный.'\n",
        "\n",
        "    def check_password(self):\n",
        "        password_to_check = input('Введите пароль: ')\n",
        "        if self.get_password() == password_to_check:\n",
        "            return True\n",
        "        else:\n",
        "            return 1False\n",
        "\n",
        "user = UserAccount(\"Hariton Mambyrin\", \"mambyrin1948@gmail.com\", \"36699\")\n",
        "print(user.get_info())\n",
        "print(user.set_password())\n",
        "print(user.check_password())"
      ],
      "metadata": {
        "id": "Yz0346RSntw_",
        "colab": {
          "base_uri": "https://localhost:8080/"
        },
        "outputId": "20665ca4-2c0a-4117-8069-90763ec68883"
      },
      "execution_count": 9,
      "outputs": [
        {
          "output_type": "stream",
          "name": "stdout",
          "text": [
            "Имя пользователя: Hariton Mambyrin, Почта пользователя: mambyrin1948@gmail.com\n",
            "Введите текущий пароль: 36699\n",
            "Введите новый пароль: 1234\n",
            "Новый пароль установлен.\n",
            "Введите пароль: 1234\n",
            "True\n"
          ]
        }
      ]
    },
    {
      "cell_type": "code",
      "source": [
        "#Задание 2: Работа с дочерними классами\n",
        "class Vehicle:\n",
        "    def __init__(self, make, model):\n",
        "        self.make = make\n",
        "        self.model = model\n",
        "\n",
        "    def get_info(self):\n",
        "        return \"Марка ТС: {}, Модель ТС: {}\".format(self.make, self.model)\n",
        "\n",
        "class Car(Vehicle):\n",
        "    def __init__(self, make, model, fuel_type):\n",
        "        super().__init__(make, model)\n",
        "        self.fuel_type = fuel_type\n",
        "\n",
        "    def get_info(self):\n",
        "        return \"Марка ТС: {}, Модель ТС: {}, Топливо: {}\".format(self.make, self.model, self.fuel_type)\n",
        "\n",
        "car1 = Vehicle('Trek', 'Superior eXC 7019')\n",
        "car2 = Car('Porsche', 'Cayenne', 'Бензин')\n",
        "print(car1.get_info())\n",
        "print(car2.get_info())"
      ],
      "metadata": {
        "id": "of5NmZcYn2Ou",
        "colab": {
          "base_uri": "https://localhost:8080/"
        },
        "outputId": "c373958c-3e63-424f-809e-3a929c96795f"
      },
      "execution_count": 5,
      "outputs": [
        {
          "output_type": "stream",
          "name": "stdout",
          "text": [
            "Марка ТС: Trek, Модель ТС: Superior eXC 7019\n",
            "Марка ТС: Porsche, Модель ТС: Cayenne, Топливо: Бензин\n"
          ]
        }
      ]
    }
  ]
}